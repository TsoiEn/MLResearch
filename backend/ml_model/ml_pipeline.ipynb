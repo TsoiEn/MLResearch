{
 "cells": [
  {
   "cell_type": "code",
   "execution_count": 1,
   "metadata": {},
   "outputs": [],
   "source": [
    "# Import libraries\\\n",
    "import numpy as np\n",
    "import pandas as pd\n",
    "from sklearn.model_selection import train_test_split\n",
    "from sklearn.ensemble import RandomForestClassifier\n",
    "from sklearn.metrics import accuracy_score, classification_report\n",
    "from sklearn.preprocessing import OneHotEncoder, StandardScaler\n",
    "from sklearn.compose import ColumnTransformer\n",
    "from sklearn.pipeline import Pipeline\n",
    "import joblib\n"
   ]
  },
  {
   "cell_type": "code",
   "execution_count": 2,
   "metadata": {},
   "outputs": [
    {
     "name": "stdout",
     "output_type": "stream",
     "text": [
      "       Disease Fever Cough Fatigue Difficulty Breathing  Age  Gender  \\\n",
      "0    Influenza   Yes    No     Yes                  Yes   19  Female   \n",
      "1  Common Cold    No   Yes     Yes                   No   25  Female   \n",
      "2       Eczema    No   Yes     Yes                   No   25  Female   \n",
      "3       Asthma   Yes   Yes      No                  Yes   25    Male   \n",
      "4       Asthma   Yes   Yes      No                  Yes   25    Male   \n",
      "\n",
      "  Blood Pressure Cholesterol Level Outcome Variable  \n",
      "0            Low            Normal         Positive  \n",
      "1         Normal            Normal         Negative  \n",
      "2         Normal            Normal         Negative  \n",
      "3         Normal            Normal         Positive  \n",
      "4         Normal            Normal         Positive  \n",
      "<class 'pandas.core.frame.DataFrame'>\n",
      "RangeIndex: 349 entries, 0 to 348\n",
      "Data columns (total 10 columns):\n",
      " #   Column                Non-Null Count  Dtype \n",
      "---  ------                --------------  ----- \n",
      " 0   Disease               349 non-null    object\n",
      " 1   Fever                 349 non-null    object\n",
      " 2   Cough                 349 non-null    object\n",
      " 3   Fatigue               349 non-null    object\n",
      " 4   Difficulty Breathing  349 non-null    object\n",
      " 5   Age                   349 non-null    int64 \n",
      " 6   Gender                349 non-null    object\n",
      " 7   Blood Pressure        349 non-null    object\n",
      " 8   Cholesterol Level     349 non-null    object\n",
      " 9   Outcome Variable      349 non-null    object\n",
      "dtypes: int64(1), object(9)\n",
      "memory usage: 27.4+ KB\n",
      "None\n"
     ]
    }
   ],
   "source": [
    "data = pd.read_csv('/home/tsoien/github/MLResearch/backend/data/Disease_symptom_and_patient_profile_dataset.csv')\n",
    "df = pd.DataFrame(data)\n",
    "\n",
    "# Display the first few rows\n",
    "print(df.head())\n",
    "\n",
    "# Check dataset information\n",
    "print(df.info())\n"
   ]
  },
  {
   "cell_type": "code",
   "execution_count": 3,
   "metadata": {},
   "outputs": [
    {
     "name": "stdout",
     "output_type": "stream",
     "text": [
      "Disease                 0\n",
      "Fever                   0\n",
      "Cough                   0\n",
      "Fatigue                 0\n",
      "Difficulty Breathing    0\n",
      "Age                     0\n",
      "Gender                  0\n",
      "Blood Pressure          0\n",
      "Cholesterol Level       0\n",
      "Outcome Variable        0\n",
      "dtype: int64\n"
     ]
    }
   ],
   "source": [
    "# Check for missing data in the dataframe\n",
    "missing_data = df.isnull().sum()\n",
    "print(missing_data)"
   ]
  },
  {
   "cell_type": "code",
   "execution_count": 4,
   "metadata": {},
   "outputs": [],
   "source": [
    "# Define features (X) and target variable (y)\n",
    "target_column = 'Outcome Variable'\n",
    "X = df.drop(columns=[target_column])  # Drop the target column to keep features\n",
    "y = df[target_column]  # Target column\n"
   ]
  },
  {
   "cell_type": "markdown",
   "metadata": {},
   "source": [
    "preprocessing"
   ]
  },
  {
   "cell_type": "code",
   "execution_count": 5,
   "metadata": {},
   "outputs": [
    {
     "name": "stdout",
     "output_type": "stream",
     "text": [
      "       Disease Fever Cough Fatigue Difficulty Breathing  Age  Gender  \\\n",
      "0    Influenza   Yes    No     Yes                  Yes   19  Female   \n",
      "1  Common Cold    No   Yes     Yes                   No   25  Female   \n",
      "2       Eczema    No   Yes     Yes                   No   25  Female   \n",
      "3       Asthma   Yes   Yes      No                  Yes   25    Male   \n",
      "4       Asthma   Yes   Yes      No                  Yes   25    Male   \n",
      "\n",
      "  Blood Pressure Cholesterol Level  \n",
      "0            Low            Normal  \n",
      "1         Normal            Normal  \n",
      "2         Normal            Normal  \n",
      "3         Normal            Normal  \n",
      "4         Normal            Normal  \n"
     ]
    }
   ],
   "source": [
    "print(X.head())"
   ]
  },
  {
   "cell_type": "code",
   "execution_count": 6,
   "metadata": {},
   "outputs": [
    {
     "name": "stdout",
     "output_type": "stream",
     "text": [
      "       Disease Fever Cough Fatigue Difficulty Breathing  Age  Gender  \\\n",
      "0    Influenza   Yes    No     Yes                  Yes   19  Female   \n",
      "1  Common Cold    No   Yes     Yes                   No   25  Female   \n",
      "2       Eczema    No   Yes     Yes                   No   25  Female   \n",
      "3       Asthma   Yes   Yes      No                  Yes   25    Male   \n",
      "4       Asthma   Yes   Yes      No                  Yes   25    Male   \n",
      "\n",
      "  Blood Pressure Cholesterol Level  \n",
      "0            Low            Normal  \n",
      "1         Normal            Normal  \n",
      "2         Normal            Normal  \n",
      "3         Normal            Normal  \n",
      "4         Normal            Normal  \n"
     ]
    }
   ],
   "source": [
    "# Mapping function\n",
    "# mapping = {'Yes': 1, 'No': 0}\n",
    "# # Mapping for Gender\n",
    "# gender_mapping = {'Male': 1, 'Female': 2}\n",
    "# X['Gender'] = X['Gender'].map(gender_mapping)\n",
    "\n",
    "# # Apply mapping to the specified columns\n",
    "# columns_to_map = ['Fever', 'Cough', 'Fatigue', 'Difficulty Breathing']\n",
    "# for column in columns_to_map:\n",
    "#     X[column] = X[column].map(mapping)\n",
    "\n",
    "# Display the updated dataframe\n",
    "print(X.head())"
   ]
  },
  {
   "cell_type": "code",
   "execution_count": 7,
   "metadata": {},
   "outputs": [],
   "source": [
    "# # Mapping for Blood Pressure and Cholesterol Level\n",
    "# bp_mapping = {'Low': 1, 'Normal': 2, 'High': 3}\n",
    "# cholesterol_mapping = {'Normal': 1, 'High': 2, 'Very High': 3}\n",
    "\n",
    "# # Apply mapping to the specified columns\n",
    "# X['Blood Pressure'] = X['Blood Pressure'].map(bp_mapping)\n",
    "# X['Cholesterol Level'] = X['Cholesterol Level'].map(cholesterol_mapping)\n",
    "\n",
    "# # Display the updated dataframe\n",
    "# print(X.head())"
   ]
  },
  {
   "cell_type": "code",
   "execution_count": 8,
   "metadata": {},
   "outputs": [
    {
     "name": "stdout",
     "output_type": "stream",
     "text": [
      "Unique values in 'Fever' before mapping: ['Yes' 'No']\n",
      "Unique values in 'Cough' before mapping: ['No' 'Yes']\n",
      "Unique values in 'Fatigue' before mapping: ['Yes' 'No']\n",
      "Unique values in 'Difficulty Breathing' before mapping: ['Yes' 'No']\n",
      "Categorical Columns: ['Disease']\n",
      "Numeric Columns: ['Fever', 'Cough', 'Fatigue', 'Difficulty Breathing', 'Age', 'Gender', 'Blood Pressure', 'Cholesterol Level']\n",
      "NaN values in processed_data: 0\n",
      "Processed Data Shape: (349, 124)\n",
      "        0         1         2         3         4         5         6    \\\n",
      "0  0.997139 -0.957905  0.664943  1.722181 -2.091160  0.991441 -2.419529   \n",
      "1 -1.002869  1.043945  0.664943 -0.580659 -1.631964  0.991441 -0.723915   \n",
      "2 -1.002869  1.043945  0.664943 -0.580659 -1.631964  0.991441 -0.723915   \n",
      "3  0.997139  1.043945 -1.503889  1.722181 -1.631964 -1.008633 -0.723915   \n",
      "4  0.997139  1.043945 -1.503889  1.722181 -1.631964 -1.008633 -0.723915   \n",
      "\n",
      "       7    8    9    ...  114  115  116  117  118  119  120  121  122  123  \n",
      "0 -0.95242  0.0  0.0  ...  0.0  0.0  0.0  0.0  0.0  0.0  0.0  0.0  0.0  0.0  \n",
      "1 -0.95242  0.0  0.0  ...  0.0  0.0  0.0  0.0  0.0  0.0  0.0  0.0  0.0  0.0  \n",
      "2 -0.95242  0.0  0.0  ...  0.0  0.0  0.0  0.0  0.0  0.0  0.0  0.0  0.0  0.0  \n",
      "3 -0.95242  0.0  0.0  ...  0.0  0.0  0.0  0.0  0.0  0.0  0.0  0.0  0.0  0.0  \n",
      "4 -0.95242  0.0  0.0  ...  0.0  0.0  0.0  0.0  0.0  0.0  0.0  0.0  0.0  0.0  \n",
      "\n",
      "[5 rows x 124 columns]\n",
      "\n",
      "Feature Names: ['num__Fever' 'num__Cough' 'num__Fatigue' 'num__Difficulty Breathing'\n",
      " 'num__Age' 'num__Gender' 'num__Blood Pressure' 'num__Cholesterol Level'\n",
      " 'cat__Disease_Acne' 'cat__Disease_Allergic Rhinitis'\n",
      " \"cat__Disease_Alzheimer's Disease\" 'cat__Disease_Anemia'\n",
      " 'cat__Disease_Anxiety Disorders' 'cat__Disease_Appendicitis'\n",
      " 'cat__Disease_Asthma' 'cat__Disease_Atherosclerosis'\n",
      " 'cat__Disease_Autism Spectrum Disorder (ASD)'\n",
      " 'cat__Disease_Bipolar Disorder' 'cat__Disease_Bladder Cancer'\n",
      " 'cat__Disease_Brain Tumor' 'cat__Disease_Breast Cancer'\n",
      " 'cat__Disease_Bronchitis' 'cat__Disease_Cataracts'\n",
      " 'cat__Disease_Cerebral Palsy' 'cat__Disease_Chickenpox'\n",
      " 'cat__Disease_Cholecystitis' 'cat__Disease_Cholera'\n",
      " 'cat__Disease_Chronic Kidney Disease'\n",
      " 'cat__Disease_Chronic Obstructive Pulmonary Disease (COPD)'\n",
      " 'cat__Disease_Chronic Obstructive Pulmonary...' 'cat__Disease_Cirrhosis'\n",
      " 'cat__Disease_Colorectal Cancer' 'cat__Disease_Common Cold'\n",
      " 'cat__Disease_Conjunctivitis (Pink Eye)'\n",
      " 'cat__Disease_Coronary Artery Disease' \"cat__Disease_Crohn's Disease\"\n",
      " 'cat__Disease_Cystic Fibrosis' 'cat__Disease_Dementia'\n",
      " 'cat__Disease_Dengue Fever' 'cat__Disease_Depression'\n",
      " 'cat__Disease_Diabetes' 'cat__Disease_Diverticulitis'\n",
      " 'cat__Disease_Down Syndrome'\n",
      " 'cat__Disease_Eating Disorders (Anorexia,...' 'cat__Disease_Ebola Virus'\n",
      " 'cat__Disease_Eczema' 'cat__Disease_Endometriosis'\n",
      " 'cat__Disease_Epilepsy' 'cat__Disease_Esophageal Cancer'\n",
      " 'cat__Disease_Fibromyalgia' 'cat__Disease_Gastroenteritis'\n",
      " 'cat__Disease_Glaucoma' 'cat__Disease_Gout' 'cat__Disease_HIV/AIDS'\n",
      " 'cat__Disease_Hemophilia' 'cat__Disease_Hemorrhoids'\n",
      " 'cat__Disease_Hepatitis' 'cat__Disease_Hepatitis B'\n",
      " 'cat__Disease_Hyperglycemia' 'cat__Disease_Hypertension'\n",
      " 'cat__Disease_Hypertensive Heart Disease' 'cat__Disease_Hyperthyroidism'\n",
      " 'cat__Disease_Hypoglycemia' 'cat__Disease_Hypothyroidism'\n",
      " 'cat__Disease_Influenza' 'cat__Disease_Kidney Cancer'\n",
      " 'cat__Disease_Kidney Disease' 'cat__Disease_Klinefelter Syndrome'\n",
      " 'cat__Disease_Liver Cancer' 'cat__Disease_Liver Disease'\n",
      " 'cat__Disease_Lung Cancer' 'cat__Disease_Lyme Disease'\n",
      " 'cat__Disease_Lymphoma' 'cat__Disease_Malaria'\n",
      " 'cat__Disease_Marfan Syndrome' 'cat__Disease_Measles'\n",
      " 'cat__Disease_Melanoma' 'cat__Disease_Migraine'\n",
      " 'cat__Disease_Multiple Sclerosis' 'cat__Disease_Mumps'\n",
      " 'cat__Disease_Muscular Dystrophy'\n",
      " 'cat__Disease_Myocardial Infarction (Heart...'\n",
      " 'cat__Disease_Obsessive-Compulsive Disorde...'\n",
      " 'cat__Disease_Osteoarthritis' 'cat__Disease_Osteomyelitis'\n",
      " 'cat__Disease_Osteoporosis' 'cat__Disease_Otitis Media (Ear Infection)'\n",
      " 'cat__Disease_Ovarian Cancer' 'cat__Disease_Pancreatic Cancer'\n",
      " 'cat__Disease_Pancreatitis' \"cat__Disease_Parkinson's Disease\"\n",
      " 'cat__Disease_Pneumocystis Pneumonia (PCP)' 'cat__Disease_Pneumonia'\n",
      " 'cat__Disease_Pneumothorax' 'cat__Disease_Polio'\n",
      " 'cat__Disease_Polycystic Ovary Syndrome (PCOS)'\n",
      " 'cat__Disease_Prader-Willi Syndrome' 'cat__Disease_Prostate Cancer'\n",
      " 'cat__Disease_Psoriasis' 'cat__Disease_Rabies'\n",
      " 'cat__Disease_Rheumatoid Arthritis' 'cat__Disease_Rubella'\n",
      " 'cat__Disease_Schizophrenia' 'cat__Disease_Scoliosis'\n",
      " 'cat__Disease_Sepsis' 'cat__Disease_Sickle Cell Anemia'\n",
      " 'cat__Disease_Sinusitis' 'cat__Disease_Sleep Apnea'\n",
      " 'cat__Disease_Spina Bifida' 'cat__Disease_Stroke'\n",
      " 'cat__Disease_Systemic Lupus Erythematosus...'\n",
      " 'cat__Disease_Testicular Cancer' 'cat__Disease_Tetanus'\n",
      " 'cat__Disease_Thyroid Cancer' 'cat__Disease_Tonsillitis'\n",
      " 'cat__Disease_Tourette Syndrome' 'cat__Disease_Tuberculosis'\n",
      " 'cat__Disease_Turner Syndrome' 'cat__Disease_Typhoid Fever'\n",
      " 'cat__Disease_Ulcerative Colitis' 'cat__Disease_Urinary Tract Infection'\n",
      " 'cat__Disease_Urinary Tract Infection (UTI)'\n",
      " 'cat__Disease_Williams Syndrome' 'cat__Disease_Zika Virus']\n",
      "Processed Data Shape: (349, 124)\n"
     ]
    }
   ],
   "source": [
    "from sklearn.impute import SimpleImputer\n",
    "# Mapping values for categorical columns\n",
    "# Mapping values for categorical columns\n",
    "mapping = {'Yes': 1, 'No': 0}\n",
    "gender_mapping = {'Male': 1, 'Female': 2}\n",
    "bp_mapping = {'Low': 1, 'Normal': 2, 'High': 3}\n",
    "cholesterol_mapping = {'Normal': 1, 'High': 2, 'Very High': 3}\n",
    "\n",
    "# Map and handle missing values for specified columns\n",
    "columns_to_map = ['Fever', 'Cough', 'Fatigue', 'Difficulty Breathing']\n",
    "for column in columns_to_map:\n",
    "    print(f\"Unique values in '{column}' before mapping:\", X[column].unique())\n",
    "    X[column] = X[column].map(mapping).fillna(0)  # Map values and fill missing with 0 (default)\n",
    "\n",
    "X['Gender'] = X['Gender'].map(gender_mapping).fillna(0)\n",
    "X['Blood Pressure'] = X['Blood Pressure'].map(bp_mapping).fillna(2)  # Default to \"Normal\"\n",
    "X['Cholesterol Level'] = X['Cholesterol Level'].map(cholesterol_mapping).fillna(1)  # Default to \"Normal\"\n",
    "\n",
    "# Specify column types\n",
    "categorical_columns = ['Disease']  # Only 'Disease' is categorical\n",
    "numeric_columns = [col for col in X.columns if col not in categorical_columns]\n",
    "\n",
    "# Debugging: Print column information\n",
    "print(\"Categorical Columns:\", categorical_columns)\n",
    "print(\"Numeric Columns:\", numeric_columns)\n",
    "\n",
    "# Define numeric and categorical transformers\n",
    "numeric_transformer = Pipeline(steps=[\n",
    "    ('imputer', SimpleImputer(strategy='mean')),\n",
    "    ('scaler', StandardScaler())\n",
    "])\n",
    "\n",
    "categorical_transformer = Pipeline(steps=[\n",
    "    ('imputer', SimpleImputer(strategy='most_frequent')),\n",
    "    ('encoder', OneHotEncoder(handle_unknown='ignore', drop=None))  # Adjust drop strategy if needed\n",
    "])\n",
    "\n",
    "# Create a ColumnTransformer\n",
    "preprocessor = ColumnTransformer(\n",
    "    transformers=[\n",
    "        ('num', numeric_transformer, numeric_columns),\n",
    "        ('cat', categorical_transformer, categorical_columns)\n",
    "    ]\n",
    ")\n",
    "\n",
    "processed_data = preprocessor.fit_transform(X)\n",
    "\n",
    "# Check if processed_data is sparse\n",
    "if hasattr(processed_data, \"toarray\"):  # For sparse matrix\n",
    "    processed_data_dense = processed_data.toarray()\n",
    "else:\n",
    "    processed_data_dense = processed_data\n",
    "\n",
    "# Convert to numeric if necessary and check for NaNs\n",
    "try:\n",
    "    processed_data_numeric = processed_data_dense.astype(float)  # Ensure numeric type\n",
    "    print(\"NaN values in processed_data:\", np.isnan(processed_data_numeric).sum())\n",
    "except ValueError:\n",
    "    print(\"processed_data contains non-numeric data and cannot be checked for NaN values directly.\")\n",
    "\n",
    "# Check processed data shape\n",
    "print(\"Processed Data Shape:\", processed_data.shape)\n",
    "\n",
    "# Optionally, convert to dense DataFrame for inspection\n",
    "processed_data_df = pd.DataFrame(processed_data_dense)\n",
    "print(processed_data_df.head())\n",
    "\n",
    "\n",
    "feature_names = preprocessor.get_feature_names_out()\n",
    "print(\"\\nFeature Names:\", feature_names)\n",
    "print(\"Processed Data Shape:\", processed_data_dense.shape)\n"
   ]
  },
  {
   "cell_type": "code",
   "execution_count": 9,
   "metadata": {},
   "outputs": [
    {
     "name": "stdout",
     "output_type": "stream",
     "text": [
      "Number of NaN values in processed data: 0\n"
     ]
    }
   ],
   "source": [
    "nan_values = np.sum(np.isnan(processed_data.data))  # Check only the stored data\n",
    "print(f\"Number of NaN values in processed data: {nan_values}\")\n"
   ]
  },
  {
   "cell_type": "code",
   "execution_count": 10,
   "metadata": {},
   "outputs": [
    {
     "name": "stdout",
     "output_type": "stream",
     "text": [
      "0      0\n",
      "1      0\n",
      "2      0\n",
      "3      0\n",
      "4      0\n",
      "      ..\n",
      "119    0\n",
      "120    0\n",
      "121    0\n",
      "122    0\n",
      "123    0\n",
      "Length: 124, dtype: int64\n"
     ]
    }
   ],
   "source": [
    "# Check for missing data in the processed dataframe\n",
    "missing_data_processed = processed_data_df.isnull().sum()\n",
    "print(missing_data_processed)"
   ]
  },
  {
   "cell_type": "code",
   "execution_count": 11,
   "metadata": {},
   "outputs": [
    {
     "name": "stdout",
     "output_type": "stream",
     "text": [
      "Categorical Columns: ['Disease']\n",
      "Numeric Columns: ['Fever', 'Cough', 'Fatigue', 'Difficulty Breathing', 'Age', 'Gender', 'Blood Pressure', 'Cholesterol Level']\n"
     ]
    }
   ],
   "source": [
    "print(f\"Categorical Columns: {categorical_columns}\")\n",
    "print(f\"Numeric Columns: {numeric_columns}\")\n"
   ]
  },
  {
   "cell_type": "code",
   "execution_count": 12,
   "metadata": {},
   "outputs": [],
   "source": [
    "X_train, X_test, y_train, y_test = train_test_split(X, y, test_size=0.2, random_state=42)\n",
    "\n",
    "# Apply preprocessing steps to training and test data\n",
    "X_train_preprocessed = preprocessor.fit_transform(X_train)  # Fit and transform training data\n",
    "X_test_preprocessed = preprocessor.transform(X_test)  # Transform test data with the same preprocessor\n",
    "\n",
    "# Train the model with the preprocessed training data\n",
    "rf_model = RandomForestClassifier(random_state=42)\n",
    "rf_model.fit(X_train_preprocessed, y_train)\n",
    "\n",
    "\n",
    "joblib.dump(preprocessor, \"/home/tsoien/github/MLResearch/backend/ml_model/preprocessor.joblib\")\n",
    "preprocessor = joblib.load(\"/home/tsoien/github/MLResearch/backend/ml_model/preprocessor.joblib\")"
   ]
  },
  {
   "cell_type": "code",
   "execution_count": 13,
   "metadata": {},
   "outputs": [],
   "source": [
    "# import pandas as pd\n",
    "# nan_values = processed_data.isna().sum().sum()\n",
    "# print(f\"Number of NaN values in processed data: {nan_values}\")\n"
   ]
  },
  {
   "cell_type": "code",
   "execution_count": 14,
   "metadata": {},
   "outputs": [
    {
     "name": "stdout",
     "output_type": "stream",
     "text": [
      "[1 2 3]\n",
      "[1. 2.]\n"
     ]
    }
   ],
   "source": [
    "print(X['Blood Pressure'].unique())\n",
    "print(X['Cholesterol Level'].unique())\n"
   ]
  },
  {
   "cell_type": "code",
   "execution_count": 15,
   "metadata": {},
   "outputs": [
    {
     "name": "stdout",
     "output_type": "stream",
     "text": [
      "Processed data saved to /home/tsoien/github/MLResearch/backend/data/processed_data.csv\n"
     ]
    }
   ],
   "source": [
    "# Save the processed data to a CSV file\n",
    "processed_data_df.to_csv('/home/tsoien/github/MLResearch/backend/data/processed_data.csv', index=False)\n",
    "print(\"Processed data saved to /home/tsoien/github/MLResearch/backend/data/processed_data.csv\")"
   ]
  },
  {
   "cell_type": "code",
   "execution_count": 16,
   "metadata": {},
   "outputs": [
    {
     "name": "stdout",
     "output_type": "stream",
     "text": [
      "Model saved to /home/tsoien/github/MLResearch/backend/ml_model/model.joblib\n"
     ]
    }
   ],
   "source": [
    "# Save the trained model\n",
    "model_path = '/home/tsoien/github/MLResearch/backend/ml_model/model.joblib'\n",
    "joblib.dump(rf_model, model_path)\n",
    "print(f\"Model saved to {model_path}\")\n"
   ]
  },
  {
   "cell_type": "code",
   "execution_count": 17,
   "metadata": {},
   "outputs": [
    {
     "name": "stdout",
     "output_type": "stream",
     "text": [
      "Accuracy: 0.87\n",
      "Classification Report:\n",
      "              precision    recall  f1-score   support\n",
      "\n",
      "    Negative       0.86      0.83      0.85        30\n",
      "    Positive       0.88      0.90      0.89        40\n",
      "\n",
      "    accuracy                           0.87        70\n",
      "   macro avg       0.87      0.87      0.87        70\n",
      "weighted avg       0.87      0.87      0.87        70\n",
      "\n"
     ]
    }
   ],
   "source": [
    "if hasattr(rf_model, 'estimators_'):\n",
    "    # Make predictions\n",
    "    y_pred = rf_model.predict(X_test_preprocessed)\n",
    "\n",
    "    # Calculate accuracy\n",
    "    accuracy = accuracy_score(y_test, y_pred)\n",
    "    print(f\"Accuracy: {accuracy:.2f}\")\n",
    "\n",
    "    # Classification report\n",
    "    print(\"Classification Report:\")\n",
    "    print(classification_report(y_test, y_pred))\n",
    "else:\n",
    "    print(\"The model has not been fitted yet.\")"
   ]
  },
  {
   "cell_type": "code",
   "execution_count": 18,
   "metadata": {},
   "outputs": [
    {
     "name": "stdout",
     "output_type": "stream",
     "text": [
      "Training Columns: ['Disease', 'Fever', 'Cough', 'Fatigue', 'Difficulty Breathing', 'Age', 'Gender', 'Blood Pressure', 'Cholesterol Level']\n",
      "Prediction Columns: Outcome Variable\n"
     ]
    }
   ],
   "source": [
    "print(\"Training Columns:\", X_train.columns.tolist())\n",
    "print(\"Prediction Columns:\", y_train.name)"
   ]
  }
 ],
 "metadata": {
  "kernelspec": {
   "display_name": "myenv",
   "language": "python",
   "name": "python3"
  },
  "language_info": {
   "codemirror_mode": {
    "name": "ipython",
    "version": 3
   },
   "file_extension": ".py",
   "mimetype": "text/x-python",
   "name": "python",
   "nbconvert_exporter": "python",
   "pygments_lexer": "ipython3",
   "version": "3.12.3"
  }
 },
 "nbformat": 4,
 "nbformat_minor": 2
}
